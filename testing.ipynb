{
 "cells": [
  {
   "cell_type": "code",
   "execution_count": 347,
   "metadata": {},
   "outputs": [],
   "source": [
    "from numpy import inf\n",
    "import pandas as pd\n",
    "from scipy.spatial.distance import cdist\n",
    "import itertools\n",
    "import pandas as pd\n",
    "import numpy as np\n",
    "import random "
   ]
  },
  {
   "cell_type": "code",
   "execution_count": 348,
   "metadata": {},
   "outputs": [],
   "source": [
    "\n",
    "from source.pairwise_distance_matrix import pairwise_distance_matrix\n",
    "from source.GA_util import init_pop, objective, tournament_selection, mutation\n",
    "from source.xyz_parser import XYZ_reader\n"
   ]
  },
  {
   "cell_type": "code",
   "execution_count": 349,
   "metadata": {},
   "outputs": [],
   "source": [
    "def crossover(p1, p2, r_cross):\n",
    "\n",
    "\t# children are copies of parents by default\n",
    "\tc1, c2 = p1.copy(), p2.copy()\n",
    "\n",
    "\t# check for recombination\n",
    "\tif np.random.rand() < r_cross:\n",
    "\n",
    "\t\t# select crossover point that is not on the end of the string\n",
    "\t\tpt = np.random.randint(1, len(p1)-2)\n",
    "\n",
    "\t\t# perform crossover\n",
    "\t\tc1 = p1[:pt] + p2[pt:]\n",
    "\t\tc2 = p2[:pt] + p1[pt:]\n",
    "\n",
    "\treturn [c1, c2]"
   ]
  },
  {
   "cell_type": "code",
   "execution_count": 350,
   "metadata": {},
   "outputs": [],
   "source": [
    "def genetic_atom_mapping(educt_path,product_path,n_generations,pop_size,cross_rate,mut_rate):\n",
    "\n",
    "    product_xyz = XYZ_reader(product_path)\n",
    "\n",
    "    educt   = pairwise_distance_matrix(XYZ_reader(educt_path)  , inverse = True, unit = True, exp = None)\n",
    "    product = pairwise_distance_matrix(XYZ_reader(product_path), inverse = True, unit = True, exp = None)\n",
    "\n",
    "    # get the reference which atoms can get which places\n",
    "    reference = [product_xyz.loc[product_xyz['Element'] == element].index.to_list() for element in product_xyz['Element'].unique()]\n",
    "    \n",
    "    options = list()\n",
    "    for i in reference:\n",
    "        for column in i :\n",
    "            options.append(i)\n",
    "     \n",
    "    # initial population based on estimated best candidate \n",
    "    pop = [ j for i,j in enumerate(init_pop_score(educt,product,reference)) if i < (pop_size - 1)]\n",
    "\n",
    "    # set initial guess\n",
    "    best, best_eval = 0, objective(pop[0],educt,product)\n",
    "\n",
    "    # enumerate generations\n",
    "    for gen in range(n_generations):\n",
    "        \n",
    "        # evaluate all candidates in the population\n",
    "        scores = [objective(i,educt,product) for i in pop]\n",
    "\n",
    "        #print(scores)\n",
    "        #check if there's a new best in this generation\n",
    "        #best,best_eval = update_best(gen,pop,scores,best,best_eval)\n",
    "        for i in range(len(scores)):\n",
    "            if scores[i] > best_eval:\n",
    "                best, best_eval = pop[i], scores[i]\n",
    "                print(\">%d, new best f(%s) = %.3f\" % (gen,  pop[i], scores[i]))\n",
    "                \n",
    "        # select parents in turnament selection\n",
    "        parents = [tournament_selection(pop,scores) for _ in range(pop_size)]\n",
    "\n",
    "        # create the next generation    \n",
    "        children = list()\n",
    "        for i in range(0,pop_size,2):\n",
    "\n",
    "            # get pair of parents\n",
    "            p1, p2 = parents[i], parents[i+1]\n",
    "\n",
    "            for child in [p1,p2]:#crossover(p1,p2,cross_rate):\n",
    "\n",
    "                child = mutation(child,options,mut_rate)\n",
    "\n",
    "                children.append(child)\n",
    "\n",
    "        pop = children\n",
    "\n",
    "    return [best,best_eval]\n"
   ]
  },
  {
   "cell_type": "code",
   "execution_count": 351,
   "metadata": {},
   "outputs": [
    {
     "name": "stdout",
     "output_type": "stream",
     "text": [
      ">0, new best f((7, 1, 2, 3, 4, 6, 5, 0, 8, 9)) = 9.016\n",
      ">0, new best f((7, 1, 2, 3, 5, 6, 4, 0, 8, 9)) = 9.057\n",
      ">2, new best f([7, 1, 4, 5, 2, 6, 3, 0, 8, 9]) = 9.163\n",
      ">3, new best f([7, 1, 0, 3, 2, 5, 6, 4, 8, 9]) = 9.482\n",
      ">177, new best f([7, 0, 1, 6, 2, 4, 3, 5, 9, 8]) = 9.533\n"
     ]
    },
    {
     "data": {
      "text/plain": [
       "[[7, 0, 1, 6, 2, 4, 3, 5, 9, 8], 9.532587436487301]"
      ]
     },
     "execution_count": 351,
     "metadata": {},
     "output_type": "execute_result"
    }
   ],
   "source": [
    "genetic_atom_mapping('educt.xyz','product.xyz',10000,40,0.2,0.1)"
   ]
  }
 ],
 "metadata": {
  "kernelspec": {
   "display_name": "Python 3.9.10",
   "language": "python",
   "name": "python3"
  },
  "language_info": {
   "codemirror_mode": {
    "name": "ipython",
    "version": 3
   },
   "file_extension": ".py",
   "mimetype": "text/x-python",
   "name": "python",
   "nbconvert_exporter": "python",
   "pygments_lexer": "ipython3",
   "version": "3.9.10"
  },
  "orig_nbformat": 4,
  "vscode": {
   "interpreter": {
    "hash": "dfcaecdf05f5dee60e4059109da00163655215d8c7e487a25e7e0f2fbe9c6bb5"
   }
  }
 },
 "nbformat": 4,
 "nbformat_minor": 2
}
