{
 "cells": [
  {
   "cell_type": "markdown",
   "metadata": {},
   "source": [
    "# Atom mapping using a genetic algorithm"
   ]
  },
  {
   "cell_type": "code",
   "execution_count": 1,
   "metadata": {},
   "outputs": [],
   "source": [
    "from GA import genetic_atom_mapping"
   ]
  },
  {
   "cell_type": "code",
   "execution_count": 3,
   "metadata": {},
   "outputs": [
    {
     "name": "stdout",
     "output_type": "stream",
     "text": [
      ">0, new best f((7, 1, 2, 3, 4, 6, 5, 0, 8, 9)) = 9.016\n",
      ">1, new best f([7, 1, 2, 0, 4, 5, 6, 3, 8, 9]) = 9.228\n",
      ">1, new best f([7, 1, 4, 3, 2, 6, 5, 0, 8, 9]) = 9.437\n"
     ]
    },
    {
     "data": {
      "text/plain": [
       "[[7, 1, 4, 3, 2, 6, 5, 0, 8, 9], 9.436816829774827]"
      ]
     },
     "execution_count": 3,
     "metadata": {},
     "output_type": "execute_result"
    }
   ],
   "source": [
    "genetic_atom_mapping('educt.xyz','product.xyz',1000,40,0.2,0.1)"
   ]
  }
 ],
 "metadata": {
  "kernelspec": {
   "display_name": "Python 3.9.10",
   "language": "python",
   "name": "python3"
  },
  "language_info": {
   "codemirror_mode": {
    "name": "ipython",
    "version": 3
   },
   "file_extension": ".py",
   "mimetype": "text/x-python",
   "name": "python",
   "nbconvert_exporter": "python",
   "pygments_lexer": "ipython3",
   "version": "3.9.10"
  },
  "orig_nbformat": 4,
  "vscode": {
   "interpreter": {
    "hash": "dfcaecdf05f5dee60e4059109da00163655215d8c7e487a25e7e0f2fbe9c6bb5"
   }
  }
 },
 "nbformat": 4,
 "nbformat_minor": 2
}
